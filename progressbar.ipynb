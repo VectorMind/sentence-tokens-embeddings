{
 "cells": [
  {
   "cell_type": "code",
   "execution_count": 2,
   "id": "9d7b9df4-4d23-498e-bebf-875fc9d51f8d",
   "metadata": {},
   "outputs": [
    {
     "data": {
      "application/vnd.jupyter.widget-view+json": {
       "model_id": "6a7f4cb331ab49f18b878e6013bc351d",
       "version_major": 2,
       "version_minor": 0
      },
      "text/plain": [
       "Processing:   0%|          | 0/100 [00:00<?, ?it/s]"
      ]
     },
     "metadata": {},
     "output_type": "display_data"
    }
   ],
   "source": [
    "from tqdm.notebook import tqdm\n",
    "import time"
   ]
  },
  {
   "cell_type": "code",
   "execution_count": null,
   "id": "d310b227-00d0-4c28-b289-125eac613375",
   "metadata": {},
   "outputs": [],
   "source": [
    "total_count = 100  # for example\n",
    "start_time = time.time()\n",
    "\n",
    "for i in tqdm(range(total_count), desc=\"Processing\", total=total_count):\n",
    "    elapsed_time = time.time() - start_time\n",
    "    time.sleep(0.1)  # simulating some work with a short delay"
   ]
  },
  {
   "cell_type": "code",
   "execution_count": 3,
   "id": "42da7c7c-6afb-45db-9fe5-f68daee4330b",
   "metadata": {},
   "outputs": [
    {
     "data": {
      "application/vnd.jupyter.widget-view+json": {
       "model_id": "291085a328204fdebe553d24b3215131",
       "version_major": 2,
       "version_minor": 0
      },
      "text/plain": [
       "Processing:   0%|          | 0/4 [00:00<?, ?it/s]"
      ]
     },
     "metadata": {},
     "output_type": "display_data"
    },
    {
     "name": "stdout",
     "output_type": "stream",
     "text": [
      "1\n",
      "2\n",
      "3\n",
      "4\n"
     ]
    }
   ],
   "source": [
    "input_texts = [\"1\",\"2\",\"3\",\"4\"]\n",
    "\n",
    "for text in tqdm(input_texts, desc=\"Processing\", total=len(input_texts)):\n",
    "    #elapsed_time = time.time() - start_time\n",
    "    print(text)\n",
    "    time.sleep(0.5)  # simulating some work with a short delay"
   ]
  }
 ],
 "metadata": {
  "kernelspec": {
   "display_name": "Python 3 (ipykernel)",
   "language": "python",
   "name": "python3"
  },
  "language_info": {
   "codemirror_mode": {
    "name": "ipython",
    "version": 3
   },
   "file_extension": ".py",
   "mimetype": "text/x-python",
   "name": "python",
   "nbconvert_exporter": "python",
   "pygments_lexer": "ipython3",
   "version": "3.10.11"
  }
 },
 "nbformat": 4,
 "nbformat_minor": 5
}
