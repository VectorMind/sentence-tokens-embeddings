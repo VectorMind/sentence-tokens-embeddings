{
 "cells": [
  {
   "cell_type": "markdown",
   "id": "85130e9a-c010-4664-8384-7c1b4d098bac",
   "metadata": {},
   "source": [
    "# Sentence Tranformers"
   ]
  },
  {
   "cell_type": "code",
   "execution_count": 1,
   "id": "4c328139-1396-4bfd-94bd-8013d430ac54",
   "metadata": {},
   "outputs": [],
   "source": [
    "from sentence_transformers import SentenceTransformer\n",
    "model = SentenceTransformer('all-MiniLM-L6-v2')"
   ]
  },
  {
   "cell_type": "markdown",
   "id": "2cf2fd8c-6e53-46b2-9e52-c22a6469d4ac",
   "metadata": {},
   "source": [
    "repo https://github.com/UKPLab/sentence-transformers\n",
    "\n",
    "available models https://www.sbert.net/docs/pretrained_models.html\n",
    "\n",
    "huggingface https://huggingface.co/spaces/mteb/leaderboard\n",
    "\n",
    "some models listed in mteb leaderboard are also compatible with the SentenceTransformer library"
   ]
  },
  {
   "cell_type": "code",
   "execution_count": 2,
   "id": "5c78a890-70a0-4882-8d87-875070d8cd90",
   "metadata": {},
   "outputs": [],
   "source": [
    "sentences = ['This framework generates embeddings for each input sentence',\n",
    "    'Sentences are passed as a list of string.', \n",
    "    'The quick brown fox jumps over the lazy dog.']\n",
    "sentence_embeddings = model.encode(sentences)"
   ]
  },
  {
   "cell_type": "code",
   "execution_count": 3,
   "id": "c63c68e7-e9e8-4187-91b7-2220955f0bce",
   "metadata": {},
   "outputs": [
    {
     "data": {
      "text/plain": [
       "array([[-0.01371735, -0.04285153, -0.01562862, ...,  0.10017826,\n",
       "         0.12365723, -0.0422967 ],\n",
       "       [ 0.05645249,  0.05500239,  0.03137961, ...,  0.06650875,\n",
       "         0.08491522, -0.0332849 ],\n",
       "       [ 0.04393352,  0.05893442,  0.04817837, ...,  0.05216279,\n",
       "         0.05610652,  0.10206389]], dtype=float32)"
      ]
     },
     "execution_count": 3,
     "metadata": {},
     "output_type": "execute_result"
    }
   ],
   "source": [
    "sentence_embeddings"
   ]
  },
  {
   "cell_type": "code",
   "execution_count": 4,
   "id": "f0bbcffc-b5ef-418d-8a3d-001a9ad0450c",
   "metadata": {},
   "outputs": [
    {
     "data": {
      "text/plain": [
       "384"
      ]
     },
     "execution_count": 4,
     "metadata": {},
     "output_type": "execute_result"
    }
   ],
   "source": [
    "len(sentence_embeddings[0])"
   ]
  },
  {
   "cell_type": "markdown",
   "id": "0034670d-7f71-4cbe-acb6-0f01f2dc87ea",
   "metadata": {},
   "source": [
    "# E5-large-v2\n",
    "Microsoft https://github.com/microsoft/unilm\n",
    "\n",
    "huggingface model doc https://huggingface.co/intfloat/e5-large-v2"
   ]
  },
  {
   "cell_type": "code",
   "execution_count": 11,
   "id": "0ceb0f9e-46e3-4059-8b5d-e4fd657a721e",
   "metadata": {},
   "outputs": [],
   "source": [
    "model = SentenceTransformer('intfloat/e5-large-v2')"
   ]
  },
  {
   "cell_type": "code",
   "execution_count": 6,
   "id": "2ce63e59-3eee-48c3-a681-57ad0136a10f",
   "metadata": {},
   "outputs": [],
   "source": [
    "input_texts = [\n",
    "    'query: how much protein should a female eat',\n",
    "    'query: summit define',\n",
    "    \"passage: As a general guideline, the CDC's average requirement of protein for women ages 19 to 70 is 46 grams per day. But, as you can see from this chart, you'll need to increase that if you're expecting or training for a marathon. Check out the chart below to see how much protein you should be eating each day.\",\n",
    "    \"passage: Definition of summit for English Language Learners. : 1  the highest point of a mountain : the top of a mountain. : 2  the highest level. : 3  a meeting or series of meetings between the leaders of two or more governments.\"\n",
    "]\n",
    "embeddings = model.encode(input_texts, normalize_embeddings=True)"
   ]
  },
  {
   "cell_type": "code",
   "execution_count": 9,
   "id": "791e32c3-fa9b-4405-bc8d-e31830441b36",
   "metadata": {},
   "outputs": [
    {
     "data": {
      "text/plain": [
       "array([[ 0.00597807, -0.06590219,  0.02473583, ..., -0.06090297,\n",
       "         0.00261961, -0.00587721],\n",
       "       [ 0.00075219, -0.03888435, -0.00598178, ..., -0.04401155,\n",
       "         0.00437556,  0.03244658],\n",
       "       [ 0.01302098, -0.04318479,  0.02515015, ..., -0.04606067,\n",
       "         0.00546694, -0.0032451 ],\n",
       "       [ 0.015415  , -0.01987124, -0.00190646, ..., -0.02276647,\n",
       "         0.01969576,  0.02392409]], dtype=float32)"
      ]
     },
     "execution_count": 9,
     "metadata": {},
     "output_type": "execute_result"
    }
   ],
   "source": [
    "embeddings"
   ]
  },
  {
   "cell_type": "code",
   "execution_count": 10,
   "id": "12978c91-fdbd-4353-8826-f95a1f200ca5",
   "metadata": {},
   "outputs": [
    {
     "data": {
      "text/plain": [
       "1024"
      ]
     },
     "execution_count": 10,
     "metadata": {},
     "output_type": "execute_result"
    }
   ],
   "source": [
    "len(embeddings[0])"
   ]
  },
  {
   "cell_type": "markdown",
   "id": "223fb93f-6787-4410-892c-1f7ae3e86af3",
   "metadata": {},
   "source": [
    "# Instructor\n",
    "e.g. instructor-x1\n",
    "\n",
    "* https://huggingface.co/hkunlp/instructor-xl\n",
    "* https://instructor-embedding.github.io/"
   ]
  }
 ],
 "metadata": {
  "kernelspec": {
   "display_name": "Python 3 (ipykernel)",
   "language": "python",
   "name": "python3"
  },
  "language_info": {
   "codemirror_mode": {
    "name": "ipython",
    "version": 3
   },
   "file_extension": ".py",
   "mimetype": "text/x-python",
   "name": "python",
   "nbconvert_exporter": "python",
   "pygments_lexer": "ipython3",
   "version": "3.10.11"
  }
 },
 "nbformat": 4,
 "nbformat_minor": 5
}
